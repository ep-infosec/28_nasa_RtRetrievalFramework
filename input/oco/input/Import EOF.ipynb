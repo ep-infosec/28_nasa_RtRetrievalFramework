{
 "metadata": {
  "name": "",
  "signature": "sha256:a98c8e5c97ba2f7935414385c1a4df72b3926ba6440bc18b564657a09c28465d"
 },
 "nbformat": 3,
 "nbformat_minor": 0,
 "worksheets": [
  {
   "cells": [
    {
     "cell_type": "code",
     "collapsed": false,
     "input": [
      "import h5py\n",
      "import numpy as np"
     ],
     "language": "python",
     "metadata": {},
     "outputs": [],
     "prompt_number": 1
    },
    {
     "cell_type": "markdown",
     "metadata": {},
     "source": [
      "Create input file, and put in initial guess and apriori covariance information."
     ]
    },
    {
     "cell_type": "code",
     "collapsed": false,
     "input": [
      "fout = h5py.File(\"l2_oco_eof.h5\", \"w\")\n",
      "g = fout.create_group(\"Instrument\")\n",
      "g2 = g.create_group(\"EmpiricalOrthogonalFunction\")\n",
      "\n",
      "a = np.zeros((3,3,1))\n",
      "g2.create_dataset(\"a_priori\", data=a)\n",
      "g2[\"a_priori\"].attrs[\"Units\"] = \"dimensionless\"\n",
      "\n",
      "cov = np.empty((3,3,1,1))\n",
      "cov[:,:,:,:] = 100.0\n",
      "g2.create_dataset(\"covariance\", data=cov)\n",
      "g2[\"covariance\"].attrs[\"Units\"] = \"dimensionless\""
     ],
     "language": "python",
     "metadata": {},
     "outputs": [],
     "prompt_number": 2
    },
    {
     "cell_type": "markdown",
     "metadata": {},
     "source": [
      "Helper function to create a field in output file based on index."
     ]
    },
    {
     "cell_type": "code",
     "collapsed": false,
     "input": [
      "def create_fields(group, fin, band, order):\n",
      "    eof = fin[\"V%d\" % (band + 1)][order,:,:]\n",
      "    eof = 1e19 / np.std(eof) * eof\n",
      "    fname = \"EOF_%d_waveform_%d\" % (order + 1, band + 1)\n",
      "    group.create_dataset(fname, data=np.transpose(eof,(1,0)))\n",
      "    group[fname].attrs[\"Units\"] = \"ph / s / m^2 / micron / sr\""
     ],
     "language": "python",
     "metadata": {},
     "outputs": [],
     "prompt_number": 3
    },
    {
     "cell_type": "markdown",
     "metadata": {},
     "source": [
      "Create data for target mode."
     ]
    },
    {
     "cell_type": "code",
     "collapsed": false,
     "input": [
      "fin = h5py.File(\"/home/cfranken/projects/OCO2/EOF/EOF_9c_B7p02_filledSamples.h5\", \"r\")\n",
      "for mode in [\"Glint\"]:\n",
      "    group_name = \"/Instrument/EmpiricalOrthogonalFunction/\" + mode\n",
      "    g3 = fout.create_group(group_name)\n",
      "    for order in range(3):\n",
      "        for band in range(3):\n",
      "            create_fields(g3, fin, band, order)"
     ],
     "language": "python",
     "metadata": {},
     "outputs": [],
     "prompt_number": 4
    },
    {
     "cell_type": "code",
     "collapsed": false,
     "input": [
      "fout.close()"
     ],
     "language": "python",
     "metadata": {},
     "outputs": [],
     "prompt_number": 5
    },
    {
     "cell_type": "code",
     "collapsed": false,
     "input": [],
     "language": "python",
     "metadata": {},
     "outputs": [],
     "prompt_number": 5
    }
   ],
   "metadata": {}
  }
 ]
}