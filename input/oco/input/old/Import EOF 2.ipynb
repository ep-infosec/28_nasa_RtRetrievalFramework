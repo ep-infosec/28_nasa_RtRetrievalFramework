{
 "metadata": {
  "name": "",
  "signature": "sha256:aca8d0d946af1e78b61a6d8f223b8f19fa15f23b733ff68aef01f572ce4d1608"
 },
 "nbformat": 3,
 "nbformat_minor": 0,
 "worksheets": [
  {
   "cells": [
    {
     "cell_type": "markdown",
     "metadata": {},
     "source": [
      "This imports the EOFs from Christians IOC EOF generation. This is a different format than what was used with thermal vac testing."
     ]
    },
    {
     "cell_type": "code",
     "collapsed": false,
     "input": [
      "import h5py\n",
      "import numpy as np"
     ],
     "language": "python",
     "metadata": {},
     "outputs": [],
     "prompt_number": 1
    },
    {
     "cell_type": "markdown",
     "metadata": {},
     "source": [
      "This comes from /home/cfranken/code/Gridding/eof_CWODisp_oco2.h5"
     ]
    },
    {
     "cell_type": "code",
     "collapsed": false,
     "input": [
      "fin = h5py.File(\"eof_CWODisp_oco2.h5\")\n",
      "fout = h5py.File(\"l2_oco_static_input_eof.h5\", \"r+\")"
     ],
     "language": "python",
     "metadata": {},
     "outputs": [],
     "prompt_number": 2
    },
    {
     "cell_type": "code",
     "collapsed": false,
     "input": [
      "eof_1_waveform_1 = fin[\"V1\"][0,:,:]\n",
      "eof_1_waveform_2 = fin[\"V2\"][0,:,:]\n",
      "eof_1_waveform_3 = fin[\"V3\"][0,:,:]\n",
      "eof_2_waveform_1 = fin[\"V1\"][1,:,:]\n",
      "eof_2_waveform_2 = fin[\"V2\"][1,:,:]\n",
      "eof_2_waveform_3 = fin[\"V3\"][1,:,:]"
     ],
     "language": "python",
     "metadata": {},
     "outputs": [],
     "prompt_number": 3
    },
    {
     "cell_type": "code",
     "collapsed": false,
     "input": [
      "eof_1_waveform_1 = 1e19 / np.std(eof_1_waveform_1) * eof_1_waveform_1\n",
      "eof_1_waveform_2 = 1e19 / np.std(eof_1_waveform_2) * eof_1_waveform_2\n",
      "eof_1_waveform_3 = 1e19 / np.std(eof_1_waveform_3) * eof_1_waveform_3\n",
      "eof_2_waveform_1 = 1e19 / np.std(eof_2_waveform_1) * eof_2_waveform_1\n",
      "eof_2_waveform_2 = 1e19 / np.std(eof_2_waveform_2) * eof_2_waveform_2\n",
      "eof_2_waveform_3 = 1e19 / np.std(eof_2_waveform_3) * eof_2_waveform_3"
     ],
     "language": "python",
     "metadata": {},
     "outputs": [],
     "prompt_number": 4
    },
    {
     "cell_type": "code",
     "collapsed": false,
     "input": [
      "del fout[\"Instrument/EmpiricalOrthogonalFunction/a_priori\"]\n",
      "del fout[\"Instrument/EmpiricalOrthogonalFunction/covariance\"]\n",
      "del fout[\"Instrument/EmpiricalOrthogonalFunction/EOF_1_waveform_1\"]\n",
      "del fout[\"Instrument/EmpiricalOrthogonalFunction/EOF_1_waveform_2\"]\n",
      "del fout[\"Instrument/EmpiricalOrthogonalFunction/EOF_1_waveform_3\"]\n",
      "del fout[\"Instrument/EmpiricalOrthogonalFunction/EOF_2_waveform_1\"]\n",
      "del fout[\"Instrument/EmpiricalOrthogonalFunction/EOF_2_waveform_2\"]\n",
      "del fout[\"Instrument/EmpiricalOrthogonalFunction/EOF_2_waveform_3\"]"
     ],
     "language": "python",
     "metadata": {},
     "outputs": [],
     "prompt_number": 5
    },
    {
     "cell_type": "markdown",
     "metadata": {},
     "source": [
      "Need to transpose the data to match the expected order of sounding id, sample index"
     ]
    },
    {
     "cell_type": "code",
     "collapsed": false,
     "input": [
      "g = fout[\"Instrument/EmpiricalOrthogonalFunction\"]\n",
      "g.create_dataset(\"EOF_1_waveform_1\", data=np.transpose(eof_1_waveform_1,(1,0)))\n",
      "g.create_dataset(\"EOF_1_waveform_2\", data=np.transpose(eof_1_waveform_2,(1,0)))\n",
      "g.create_dataset(\"EOF_1_waveform_3\", data=np.transpose(eof_1_waveform_3,(1,0)))\n",
      "g.create_dataset(\"EOF_2_waveform_1\", data=np.transpose(eof_2_waveform_1,(1,0)))\n",
      "g.create_dataset(\"EOF_2_waveform_2\", data=np.transpose(eof_2_waveform_2,(1,0)))\n",
      "g.create_dataset(\"EOF_2_waveform_3\", data=np.transpose(eof_2_waveform_3,(1,0)))\n",
      "g[\"EOF_1_waveform_1\"].attrs[\"Units\"] = \"ph / s / m^2 / micron / sr\"\n",
      "g[\"EOF_1_waveform_2\"].attrs[\"Units\"] = \"ph / s / m^2 / micron / sr\"\n",
      "g[\"EOF_1_waveform_3\"].attrs[\"Units\"] = \"ph / s / m^2 / micron / sr\"\n",
      "g[\"EOF_2_waveform_1\"].attrs[\"Units\"] = \"ph / s / m^2 / micron / sr\"\n",
      "g[\"EOF_2_waveform_2\"].attrs[\"Units\"] = \"ph / s / m^2 / micron / sr\"\n",
      "g[\"EOF_2_waveform_3\"].attrs[\"Units\"] = \"ph / s / m^2 / micron / sr\"\n",
      "\n",
      "a = np.zeros((3,2,1))\n",
      "g.create_dataset(\"a_priori\", data=a)\n",
      "g[\"a_priori\"].attrs[\"Units\"] = \"dimensionless\"\n",
      "\n",
      "cov = np.empty((3,2,1,1))\n",
      "cov[:,:,:,:] = 100.0\n",
      "g.create_dataset(\"covariance\", data=cov)\n",
      "g[\"covariance\"].attrs[\"Units\"] = \"dimensionless\""
     ],
     "language": "python",
     "metadata": {},
     "outputs": [],
     "prompt_number": 6
    },
    {
     "cell_type": "code",
     "collapsed": false,
     "input": [
      "fout.close()"
     ],
     "language": "python",
     "metadata": {},
     "outputs": [],
     "prompt_number": 7
    },
    {
     "cell_type": "code",
     "collapsed": false,
     "input": [],
     "language": "python",
     "metadata": {},
     "outputs": [],
     "prompt_number": 7
    }
   ],
   "metadata": {}
  }
 ]
}