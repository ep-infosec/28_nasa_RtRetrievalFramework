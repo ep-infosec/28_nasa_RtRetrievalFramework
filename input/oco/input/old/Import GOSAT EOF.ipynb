{
 "metadata": {
  "name": "",
  "signature": "sha256:2938eb857a5297514eff1a6f3589a58a861f5fbed6571b67cd3cb15a90a0c955"
 },
 "nbformat": 3,
 "nbformat_minor": 0,
 "worksheets": [
  {
   "cells": [
    {
     "cell_type": "markdown",
     "metadata": {},
     "source": [
      "This imports the GOSAT EOFs for a special test of Level 2 (during the work to determine the dispersion)"
     ]
    },
    {
     "cell_type": "code",
     "collapsed": false,
     "input": [
      "import h5py\n",
      "import numpy as np"
     ],
     "language": "python",
     "metadata": {},
     "outputs": [],
     "prompt_number": 1
    },
    {
     "cell_type": "code",
     "collapsed": false,
     "input": [
      "fin = h5py.File(\"/Users/smyth/Level2/input/gosat/input/l2_gosat_static_input.h5\")\n",
      "fout = h5py.File(\"/Users/smyth/Level2Build/build/l2_oco_static_input_gosat_eof.h5\", \"r+\")"
     ],
     "language": "python",
     "metadata": {},
     "outputs": [],
     "prompt_number": 2
    },
    {
     "cell_type": "code",
     "collapsed": false,
     "input": [
      "eof_1_waveform_1 = fin[\"Instrument/EmpiricalOrthogonalFunction/H_gain/EOF_1_waveform_1\"]\n",
      "eof_1_waveform_2 = fin[\"Instrument/EmpiricalOrthogonalFunction/H_gain/EOF_1_waveform_2\"]\n",
      "eof_1_waveform_3 = fin[\"Instrument/EmpiricalOrthogonalFunction/H_gain/EOF_1_waveform_3\"]\n",
      "eof_2_waveform_1 = fin[\"Instrument/EmpiricalOrthogonalFunction/H_gain/EOF_2_waveform_1\"]\n",
      "eof_2_waveform_2 = fin[\"Instrument/EmpiricalOrthogonalFunction/H_gain/EOF_2_waveform_2\"]\n",
      "eof_2_waveform_3 = fin[\"Instrument/EmpiricalOrthogonalFunction/H_gain/EOF_2_waveform_3\"]"
     ],
     "language": "python",
     "metadata": {},
     "outputs": [],
     "prompt_number": 3
    },
    {
     "cell_type": "code",
     "collapsed": false,
     "input": [
      "eof_1_waveform_1[:,1]"
     ],
     "language": "python",
     "metadata": {},
     "outputs": [
      {
       "metadata": {},
       "output_type": "pyout",
       "prompt_number": 6,
       "text": [
        "array([ -7.94413290e-14,  -7.94413290e-14,  -9.81287386e-09, ...,\n",
        "        -7.22378729e-09,  -2.97116529e-09,  -2.97116529e-09])"
       ]
      }
     ],
     "prompt_number": 6
    },
    {
     "cell_type": "code",
     "collapsed": false,
     "input": [
      "eof_1_waveform_1[:,1] = 1e19 / np.std(eof_1_waveform_1[:,1]) * eof_1_waveform_1[:,1]\n",
      "eof_1_waveform_2[:,1] = 1e19 / np.std(eof_1_waveform_2[:,1]) * eof_1_waveform_2[:,1]\n",
      "eof_1_waveform_3[:,1] = 1e19 / np.std(eof_1_waveform_3[:,1]) * eof_1_waveform_3[:,1]\n",
      "eof_2_waveform_1[:,1] = 1e19 / np.std(eof_2_waveform_1[:,1]) * eof_2_waveform_1[:,1]\n",
      "eof_2_waveform_2[:,1] = 1e19 / np.std(eof_2_waveform_2[:,1]) * eof_2_waveform_2[:,1]\n",
      "eof_2_waveform_3[:,1] = 1e19 / np.std(eof_2_waveform_3[:,1]) * eof_2_waveform_3[:,1]"
     ],
     "language": "python",
     "metadata": {},
     "outputs": [],
     "prompt_number": 8
    },
    {
     "cell_type": "code",
     "collapsed": false,
     "input": [
      "del fout[\"Instrument/EmpiricalOrthogonalFunction/a_priori\"]\n",
      "del fout[\"Instrument/EmpiricalOrthogonalFunction/covariance\"]\n",
      "del fout[\"Instrument/EmpiricalOrthogonalFunction/EOF_1_waveform_1\"]\n",
      "del fout[\"Instrument/EmpiricalOrthogonalFunction/EOF_1_waveform_2\"]\n",
      "del fout[\"Instrument/EmpiricalOrthogonalFunction/EOF_1_waveform_3\"]\n",
      "del fout[\"Instrument/EmpiricalOrthogonalFunction/EOF_2_waveform_1\"]\n",
      "del fout[\"Instrument/EmpiricalOrthogonalFunction/EOF_2_waveform_2\"]\n",
      "del fout[\"Instrument/EmpiricalOrthogonalFunction/EOF_2_waveform_3\"]"
     ],
     "language": "python",
     "metadata": {},
     "outputs": [],
     "prompt_number": 7
    },
    {
     "cell_type": "code",
     "collapsed": false,
     "input": [
      "g = fout[\"Instrument/EmpiricalOrthogonalFunction\"]\n",
      "g.create_dataset(\"EOF_1_waveform_1\", data=eof_1_waveform_1)\n",
      "g.create_dataset(\"EOF_1_waveform_2\", data=eof_1_waveform_2)\n",
      "g.create_dataset(\"EOF_1_waveform_3\", data=eof_1_waveform_3)\n",
      "g.create_dataset(\"EOF_2_waveform_1\", data=eof_2_waveform_1)\n",
      "g.create_dataset(\"EOF_2_waveform_2\", data=eof_2_waveform_2)\n",
      "g.create_dataset(\"EOF_2_waveform_3\", data=eof_2_waveform_3)\n",
      "g[\"EOF_1_waveform_1\"].attrs[\"Units\"] = \"ph / s / m^2 / micron / sr\"\n",
      "g[\"EOF_1_waveform_2\"].attrs[\"Units\"] = \"ph / s / m^2 / micron / sr\"\n",
      "g[\"EOF_1_waveform_3\"].attrs[\"Units\"] = \"ph / s / m^2 / micron / sr\"\n",
      "g[\"EOF_2_waveform_1\"].attrs[\"Units\"] = \"ph / s / m^2 / micron / sr\"\n",
      "g[\"EOF_2_waveform_2\"].attrs[\"Units\"] = \"ph / s / m^2 / micron / sr\"\n",
      "g[\"EOF_2_waveform_3\"].attrs[\"Units\"] = \"ph / s / m^2 / micron / sr\"\n",
      "g[\"EOF_1_waveform_1\"].attrs[\"WaveUnits\"] = \"cm^-1\"\n",
      "g[\"EOF_1_waveform_2\"].attrs[\"WaveUnits\"] = \"cm^-1\"\n",
      "g[\"EOF_1_waveform_3\"].attrs[\"WaveUnits\"] = \"cm^-1\"\n",
      "g[\"EOF_2_waveform_1\"].attrs[\"WaveUnits\"] = \"cm^-1\"\n",
      "g[\"EOF_2_waveform_2\"].attrs[\"WaveUnits\"] = \"cm^-1\"\n",
      "g[\"EOF_2_waveform_3\"].attrs[\"WaveUnits\"] = \"cm^-1\"\n",
      "a = np.zeros((3,2,1))\n",
      "g.create_dataset(\"a_priori\", data=a)\n",
      "g[\"a_priori\"].attrs[\"Units\"] = \"dimensionless\"\n",
      "\n",
      "cov = np.empty((3,2,1,1))\n",
      "cov[:,:,:,:] = 100.0\n",
      "g.create_dataset(\"covariance\", data=cov)\n",
      "g[\"covariance\"].attrs[\"Units\"] = \"dimensionless\""
     ],
     "language": "python",
     "metadata": {},
     "outputs": [],
     "prompt_number": 9
    },
    {
     "cell_type": "code",
     "collapsed": false,
     "input": [
      "fout.close()"
     ],
     "language": "python",
     "metadata": {},
     "outputs": [],
     "prompt_number": 10
    },
    {
     "cell_type": "code",
     "collapsed": false,
     "input": [],
     "language": "python",
     "metadata": {},
     "outputs": [],
     "prompt_number": 7
    }
   ],
   "metadata": {}
  }
 ]
}